{
 "cells": [
  {
   "cell_type": "code",
   "execution_count": 1,
   "metadata": {},
   "outputs": [
    {
     "name": "stderr",
     "output_type": "stream",
     "text": [
      "Using TensorFlow backend.\n"
     ]
    }
   ],
   "source": [
    "%matplotlib inline\n",
    "import matplotlib.pyplot as plt\n",
    "import pandas as pd\n",
    "import numpy as np\n",
    "import sys\n",
    "sys.path.append(\"../../\")\n",
    "from utils.dataset import ClassificationDataset\n",
    "from tf_models.classification import DataGenerator, tiny_VGG_Network\n",
    "\n",
    "from keras.optimizers import Adam\n",
    "from keras.losses import sparse_categorical_crossentropy\n",
    "\n",
    "import pandas as pd"
   ]
  },
  {
   "cell_type": "markdown",
   "metadata": {},
   "source": [
    "# FashionMnist Dataset 학습시키기"
   ]
  },
  {
   "cell_type": "markdown",
   "metadata": {},
   "source": [
    "## 1) dataset을 가져와서 파이프라인 구성하기"
   ]
  },
  {
   "cell_type": "code",
   "execution_count": 2,
   "metadata": {},
   "outputs": [],
   "source": [
    "dataset_name = \"fashionmnist\"\n",
    "\n",
    "train_dataset = ClassificationDataset(dataset_name, 'train')\n",
    "train_generator = DataGenerator(train_dataset)\n",
    "\n",
    "validation_dataset = ClassificationDataset(dataset_name, 'validation')\n",
    "validation_generator = DataGenerator(validation_dataset)\n",
    "\n",
    "test_dataset = ClassificationDataset(dataset_name, 'test')\n",
    "test_generator = DataGenerator(test_dataset)"
   ]
  },
  {
   "cell_type": "markdown",
   "metadata": {},
   "source": [
    "## 2) Model 구성하기"
   ]
  },
  {
   "cell_type": "code",
   "execution_count": 3,
   "metadata": {},
   "outputs": [
    {
     "name": "stdout",
     "output_type": "stream",
     "text": [
      "_________________________________________________________________\n",
      "Layer (type)                 Output Shape              Param #   \n",
      "=================================================================\n",
      "input_1 (InputLayer)         (None, 28, 28, 1)         0         \n",
      "_________________________________________________________________\n",
      "block1_conv1 (Conv2D)        (None, 28, 28, 8)         80        \n",
      "_________________________________________________________________\n",
      "block1_conv2 (Conv2D)        (None, 28, 28, 8)         584       \n",
      "_________________________________________________________________\n",
      "block1_pool (MaxPooling2D)   (None, 14, 14, 8)         0         \n",
      "_________________________________________________________________\n",
      "block2_conv1 (Conv2D)        (None, 14, 14, 16)        1168      \n",
      "_________________________________________________________________\n",
      "block2_conv2 (Conv2D)        (None, 14, 14, 16)        2320      \n",
      "_________________________________________________________________\n",
      "block2_pool (MaxPooling2D)   (None, 7, 7, 16)          0         \n",
      "_________________________________________________________________\n",
      "block3_conv1 (Conv2D)        (None, 7, 7, 32)          4640      \n",
      "_________________________________________________________________\n",
      "block3_conv2 (Conv2D)        (None, 7, 7, 32)          9248      \n",
      "_________________________________________________________________\n",
      "block3_pool (MaxPooling2D)   (None, 3, 3, 32)          0         \n",
      "_________________________________________________________________\n",
      "flatten (Flatten)            (None, 288)               0         \n",
      "_________________________________________________________________\n",
      "fc1 (Dense)                  (None, 128)               36992     \n",
      "_________________________________________________________________\n",
      "fc2 (Dense)                  (None, 128)               16512     \n",
      "_________________________________________________________________\n",
      "predictions (Dense)          (None, 10)                1290      \n",
      "=================================================================\n",
      "Total params: 72,834\n",
      "Trainable params: 72,834\n",
      "Non-trainable params: 0\n",
      "_________________________________________________________________\n"
     ]
    }
   ],
   "source": [
    "model = tiny_VGG_Network((28,28,1), 10)\n",
    "\n",
    "model.compile(Adam(lr=0.001), \n",
    "              sparse_categorical_crossentropy, \n",
    "              metrics=[\"acc\"])\n",
    "\n",
    "model.summary()"
   ]
  },
  {
   "cell_type": "markdown",
   "metadata": {},
   "source": [
    "## 3) 학습시키기"
   ]
  },
  {
   "cell_type": "code",
   "execution_count": 4,
   "metadata": {},
   "outputs": [
    {
     "name": "stdout",
     "output_type": "stream",
     "text": [
      "Epoch 1/10\n",
      "1718/1718 [==============================] - 46s 26ms/step - loss: 0.5296 - acc: 0.8027 - val_loss: 0.3920 - val_acc: 0.8648\n",
      "Epoch 2/10\n",
      "1718/1718 [==============================] - 46s 27ms/step - loss: 0.3285 - acc: 0.8788 - val_loss: 0.2974 - val_acc: 0.8868\n",
      "Epoch 3/10\n",
      "1718/1718 [==============================] - 40s 23ms/step - loss: 0.2872 - acc: 0.8925 - val_loss: 0.2869 - val_acc: 0.8954\n",
      "Epoch 4/10\n",
      "1718/1718 [==============================] - 38s 22ms/step - loss: 0.2555 - acc: 0.9052 - val_loss: 0.2905 - val_acc: 0.8922\n",
      "Epoch 5/10\n",
      "1718/1718 [==============================] - 46s 27ms/step - loss: 0.2335 - acc: 0.9139 - val_loss: 0.2938 - val_acc: 0.8998\n",
      "Epoch 6/10\n",
      "1718/1718 [==============================] - 41s 24ms/step - loss: 0.2138 - acc: 0.9200 - val_loss: 0.2536 - val_acc: 0.9083\n",
      "Epoch 7/10\n",
      "1718/1718 [==============================] - 45s 26ms/step - loss: 0.1998 - acc: 0.9258 - val_loss: 0.2602 - val_acc: 0.9095\n",
      "Epoch 8/10\n",
      "1718/1718 [==============================] - 41s 24ms/step - loss: 0.1885 - acc: 0.9297 - val_loss: 0.2650 - val_acc: 0.9103\n",
      "Epoch 9/10\n",
      "1718/1718 [==============================] - 41s 24ms/step - loss: 0.1767 - acc: 0.9338 - val_loss: 0.2593 - val_acc: 0.9119\n",
      "Epoch 10/10\n",
      "1718/1718 [==============================] - 40s 23ms/step - loss: 0.1651 - acc: 0.9382 - val_loss: 0.2395 - val_acc: 0.9217\n"
     ]
    }
   ],
   "source": [
    "hist = model.fit_generator(train_generator,\n",
    "                           epochs=10,\n",
    "                           validation_data=validation_generator,\n",
    "                           validation_steps=None)"
   ]
  },
  {
   "cell_type": "code",
   "execution_count": 5,
   "metadata": {},
   "outputs": [
    {
     "data": {
      "text/html": [
       "<div>\n",
       "<style scoped>\n",
       "    .dataframe tbody tr th:only-of-type {\n",
       "        vertical-align: middle;\n",
       "    }\n",
       "\n",
       "    .dataframe tbody tr th {\n",
       "        vertical-align: top;\n",
       "    }\n",
       "\n",
       "    .dataframe thead th {\n",
       "        text-align: right;\n",
       "    }\n",
       "</style>\n",
       "<table border=\"1\" class=\"dataframe\">\n",
       "  <thead>\n",
       "    <tr style=\"text-align: right;\">\n",
       "      <th></th>\n",
       "      <th>val_loss</th>\n",
       "      <th>val_acc</th>\n",
       "      <th>loss</th>\n",
       "      <th>acc</th>\n",
       "    </tr>\n",
       "  </thead>\n",
       "  <tbody>\n",
       "    <tr>\n",
       "      <th>0</th>\n",
       "      <td>0.392013</td>\n",
       "      <td>0.864784</td>\n",
       "      <td>0.529623</td>\n",
       "      <td>0.802659</td>\n",
       "    </tr>\n",
       "    <tr>\n",
       "      <th>1</th>\n",
       "      <td>0.297406</td>\n",
       "      <td>0.886819</td>\n",
       "      <td>0.328509</td>\n",
       "      <td>0.878820</td>\n",
       "    </tr>\n",
       "    <tr>\n",
       "      <th>2</th>\n",
       "      <td>0.286942</td>\n",
       "      <td>0.895433</td>\n",
       "      <td>0.287157</td>\n",
       "      <td>0.892480</td>\n",
       "    </tr>\n",
       "    <tr>\n",
       "      <th>3</th>\n",
       "      <td>0.290487</td>\n",
       "      <td>0.892228</td>\n",
       "      <td>0.255492</td>\n",
       "      <td>0.905159</td>\n",
       "    </tr>\n",
       "    <tr>\n",
       "      <th>4</th>\n",
       "      <td>0.293775</td>\n",
       "      <td>0.899840</td>\n",
       "      <td>0.233493</td>\n",
       "      <td>0.913944</td>\n",
       "    </tr>\n",
       "    <tr>\n",
       "      <th>5</th>\n",
       "      <td>0.253552</td>\n",
       "      <td>0.908253</td>\n",
       "      <td>0.213815</td>\n",
       "      <td>0.920020</td>\n",
       "    </tr>\n",
       "    <tr>\n",
       "      <th>6</th>\n",
       "      <td>0.260207</td>\n",
       "      <td>0.909455</td>\n",
       "      <td>0.199814</td>\n",
       "      <td>0.925768</td>\n",
       "    </tr>\n",
       "    <tr>\n",
       "      <th>7</th>\n",
       "      <td>0.264978</td>\n",
       "      <td>0.910256</td>\n",
       "      <td>0.188484</td>\n",
       "      <td>0.929678</td>\n",
       "    </tr>\n",
       "    <tr>\n",
       "      <th>8</th>\n",
       "      <td>0.259295</td>\n",
       "      <td>0.911859</td>\n",
       "      <td>0.176726</td>\n",
       "      <td>0.933771</td>\n",
       "    </tr>\n",
       "    <tr>\n",
       "      <th>9</th>\n",
       "      <td>0.239541</td>\n",
       "      <td>0.921675</td>\n",
       "      <td>0.165115</td>\n",
       "      <td>0.938209</td>\n",
       "    </tr>\n",
       "  </tbody>\n",
       "</table>\n",
       "</div>"
      ],
      "text/plain": [
       "   val_loss   val_acc      loss       acc\n",
       "0  0.392013  0.864784  0.529623  0.802659\n",
       "1  0.297406  0.886819  0.328509  0.878820\n",
       "2  0.286942  0.895433  0.287157  0.892480\n",
       "3  0.290487  0.892228  0.255492  0.905159\n",
       "4  0.293775  0.899840  0.233493  0.913944\n",
       "5  0.253552  0.908253  0.213815  0.920020\n",
       "6  0.260207  0.909455  0.199814  0.925768\n",
       "7  0.264978  0.910256  0.188484  0.929678\n",
       "8  0.259295  0.911859  0.176726  0.933771\n",
       "9  0.239541  0.921675  0.165115  0.938209"
      ]
     },
     "execution_count": 5,
     "metadata": {},
     "output_type": "execute_result"
    }
   ],
   "source": [
    "progress_df = pd.DataFrame(hist.history) # 학습 진행과정을 dataframe\n",
    "progress_df"
   ]
  },
  {
   "cell_type": "markdown",
   "metadata": {},
   "source": [
    "## 4) 결과 평가하기"
   ]
  },
  {
   "cell_type": "code",
   "execution_count": 6,
   "metadata": {},
   "outputs": [
    {
     "data": {
      "text/plain": [
       "<matplotlib.axes._subplots.AxesSubplot at 0xb22887588>"
      ]
     },
     "execution_count": 6,
     "metadata": {},
     "output_type": "execute_result"
    },
    {
     "data": {
      "image/png": "[encoded data removed]",
      "text/plain": [
       "<Figure size 432x288 with 1 Axes>"
      ]
     },
     "metadata": {},
     "output_type": "display_data"
    }
   ],
   "source": [
    "progress_df.plot(y=['val_acc','acc'])"
   ]
  },
  {
   "cell_type": "code",
   "execution_count": 7,
   "metadata": {},
   "outputs": [
    {
     "data": {
      "text/plain": [
       "<matplotlib.axes._subplots.AxesSubplot at 0xb25f34550>"
      ]
     },
     "execution_count": 7,
     "metadata": {},
     "output_type": "execute_result"
    },
    {
     "data": {
      "image/png": "[encoded data removed]",
      "text/plain": [
       "<Figure size 432x288 with 1 Axes>"
      ]
     },
     "metadata": {},
     "output_type": "display_data"
    }
   ],
   "source": [
    "progress_df.plot(y=['val_loss','loss'])"
   ]
  },
  {
   "cell_type": "code",
   "execution_count": 8,
   "metadata": {},
   "outputs": [
    {
     "name": "stdout",
     "output_type": "stream",
     "text": [
      "test loss : 0.22750983353202733 / test accuract : 0.9212740384615384\n"
     ]
    }
   ],
   "source": [
    "test_loss, test_acc = model.evaluate_generator(test_generator)\n",
    "print(\"test loss : {} / test accuract : {}\".format(test_loss, test_acc))"
   ]
  }
 ],
 "metadata": {
  "kernelspec": {
   "display_name": "Python 3",
   "language": "python",
   "name": "python3"
  },
  "language_info": {
   "codemirror_mode": {
    "name": "ipython",
    "version": 3
   },
   "file_extension": ".py",
   "mimetype": "text/x-python",
   "name": "python",
   "nbconvert_exporter": "python",
   "pygments_lexer": "ipython3",
   "version": "3.6.5"
  }
 },
 "nbformat": 4,
 "nbformat_minor": 2
}
